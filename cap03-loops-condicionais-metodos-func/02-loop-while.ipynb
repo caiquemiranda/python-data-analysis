{
 "cells": [
  {
   "cell_type": "markdown",
   "metadata": {},
   "source": [
    "### Loop while"
   ]
  },
  {
   "cell_type": "code",
   "execution_count": 1,
   "metadata": {},
   "outputs": [
    {
     "name": "stdout",
     "output_type": "stream",
     "text": [
      "0\n",
      "1\n",
      "2\n",
      "3\n",
      "4\n",
      "5\n",
      "6\n",
      "7\n",
      "8\n",
      "9\n"
     ]
    }
   ],
   "source": [
    "# imprimir os valores de 0 a 9 na tela\n",
    "counter = 0\n",
    "while counter < 10:\n",
    "    print(counter)\n",
    "    counter += 1\n"
   ]
  },
  {
   "cell_type": "code",
   "execution_count": 2,
   "metadata": {},
   "outputs": [
    {
     "name": "stdout",
     "output_type": "stream",
     "text": [
      "O valor de x nessa iteração é:  0\n",
      "x ainda é menor que 10, somando 1 ao valor de x\n",
      "O valor de x nessa iteração é:  1\n",
      "x ainda é menor que 10, somando 1 ao valor de x\n",
      "O valor de x nessa iteração é:  2\n",
      "x ainda é menor que 10, somando 1 ao valor de x\n",
      "O valor de x nessa iteração é:  3\n",
      "x ainda é menor que 10, somando 1 ao valor de x\n",
      "O valor de x nessa iteração é:  4\n",
      "x ainda é menor que 10, somando 1 ao valor de x\n",
      "O valor de x nessa iteração é:  5\n",
      "x ainda é menor que 10, somando 1 ao valor de x\n",
      "O valor de x nessa iteração é:  6\n",
      "x ainda é menor que 10, somando 1 ao valor de x\n",
      "O valor de x nessa iteração é:  7\n",
      "x ainda é menor que 10, somando 1 ao valor de x\n",
      "O valor de x nessa iteração é:  8\n",
      "x ainda é menor que 10, somando 1 ao valor de x\n",
      "O valor de x nessa iteração é:  9\n",
      "x ainda é menor que 10, somando 1 ao valor de x\n",
      "loop concluido\n"
     ]
    }
   ],
   "source": [
    "# tambem podemos usar o else para encerrar o loop\n",
    "x = 0\n",
    "\n",
    "while x < 10:\n",
    "    print('O valor de x nessa iteração é: ', x)\n",
    "    print('x ainda é menor que 10, somando 1 ao valor de x')\n",
    "    x += 1\n",
    "    \n",
    "else:\n",
    "    print('loop concluido')"
   ]
  },
  {
   "cell_type": "markdown",
   "metadata": {},
   "source": [
    "### Pass, Break, Continue"
   ]
  },
  {
   "cell_type": "code",
   "execution_count": 4,
   "metadata": {},
   "outputs": [
    {
     "name": "stdout",
     "output_type": "stream",
     "text": [
      "0\n",
      "1\n",
      "2\n",
      "3\n"
     ]
    }
   ],
   "source": [
    "counter = 0\n",
    "while counter < 100:\n",
    "    if counter == 4:\n",
    "        break\n",
    "    \n",
    "    else:\n",
    "        pass\n",
    "    \n",
    "    print(counter)\n",
    "    counter += 1"
   ]
  },
  {
   "cell_type": "code",
   "execution_count": 5,
   "metadata": {},
   "outputs": [
    {
     "name": "stdout",
     "output_type": "stream",
     "text": [
      "P\n",
      "y\n",
      "t\n",
      "o\n",
      "n\n"
     ]
    }
   ],
   "source": [
    "for verificador in 'Python':\n",
    "    if verificador == 'h':\n",
    "        continue\n",
    "    \n",
    "    print(verificador)"
   ]
  },
  {
   "cell_type": "markdown",
   "metadata": {},
   "source": [
    "### While e For"
   ]
  },
  {
   "cell_type": "code",
   "execution_count": 6,
   "metadata": {},
   "outputs": [
    {
     "name": "stdout",
     "output_type": "stream",
     "text": [
      "2 é um número primo\n",
      "3 é um número primo\n",
      "5 é um número primo\n",
      "7 é um número primo\n",
      "11 é um número primo\n",
      "13 é um número primo\n",
      "17 é um número primo\n",
      "19 é um número primo\n",
      "23 é um número primo\n",
      "29 é um número primo\n"
     ]
    }
   ],
   "source": [
    "# numeros primos de 1 a 30\n",
    "for i in range(2, 30):\n",
    "    j = 2\n",
    "    counter = 0\n",
    "    while j < i:\n",
    "        if i % j == 0:\n",
    "            counter = 1\n",
    "            j += 1\n",
    "        else:\n",
    "            j += 1\n",
    "    \n",
    "    if counter == 0:\n",
    "        print(str(i) + ' é um número primo')\n",
    "        counter = 0\n",
    "        \n",
    "    else:\n",
    "        counter = 0"
   ]
  },
  {
   "cell_type": "markdown",
   "metadata": {},
   "source": [
    "### FIM"
   ]
  }
 ],
 "metadata": {
  "kernelspec": {
   "display_name": "Python 3.10.5 64-bit (system)",
   "language": "python",
   "name": "python3"
  },
  "language_info": {
   "codemirror_mode": {
    "name": "ipython",
    "version": 3
   },
   "file_extension": ".py",
   "mimetype": "text/x-python",
   "name": "python",
   "nbconvert_exporter": "python",
   "pygments_lexer": "ipython3",
   "version": "3.10.5"
  },
  "orig_nbformat": 4,
  "vscode": {
   "interpreter": {
    "hash": "74af3d2f25f1e46ebd2903d59225d79e4675ec224d56c01fc30cd168c2010d53"
   }
  }
 },
 "nbformat": 4,
 "nbformat_minor": 2
}
