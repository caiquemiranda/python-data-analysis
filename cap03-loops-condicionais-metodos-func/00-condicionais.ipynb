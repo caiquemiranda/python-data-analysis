{
 "cells": [
  {
   "cell_type": "markdown",
   "metadata": {},
   "source": [
    "### Condicional IF"
   ]
  },
  {
   "cell_type": "code",
   "execution_count": 1,
   "metadata": {},
   "outputs": [
    {
     "name": "stdout",
     "output_type": "stream",
     "text": [
      "Python é o melhor!\n"
     ]
    }
   ],
   "source": [
    "# condicional if\n",
    "if 5 > 2:\n",
    "    print('Python é o melhor!')"
   ]
  },
  {
   "cell_type": "code",
   "execution_count": 2,
   "metadata": {},
   "outputs": [
    {
     "name": "stdout",
     "output_type": "stream",
     "text": [
      "Python é o melhor!, porém tem algo errado\n"
     ]
    }
   ],
   "source": [
    "# statement if... else\n",
    "if 5 < 2:\n",
    "    print('Python é o melhor!')\n",
    "else:\n",
    "    print('Python é o melhor!, porém tem algo errado')"
   ]
  },
  {
   "cell_type": "code",
   "execution_count": 3,
   "metadata": {},
   "outputs": [
    {
     "data": {
      "text/plain": [
       "True"
      ]
     },
     "execution_count": 3,
     "metadata": {},
     "output_type": "execute_result"
    }
   ],
   "source": [
    "6 > 3"
   ]
  },
  {
   "cell_type": "code",
   "execution_count": 4,
   "metadata": {},
   "outputs": [
    {
     "data": {
      "text/plain": [
       "False"
      ]
     },
     "execution_count": 4,
     "metadata": {},
     "output_type": "execute_result"
    }
   ],
   "source": [
    "3 > 6"
   ]
  },
  {
   "cell_type": "code",
   "execution_count": 5,
   "metadata": {},
   "outputs": [
    {
     "data": {
      "text/plain": [
       "True"
      ]
     },
     "execution_count": 5,
     "metadata": {},
     "output_type": "execute_result"
    }
   ],
   "source": [
    "4 < 8"
   ]
  },
  {
   "cell_type": "code",
   "execution_count": 6,
   "metadata": {},
   "outputs": [
    {
     "data": {
      "text/plain": [
       "True"
      ]
     },
     "execution_count": 6,
     "metadata": {},
     "output_type": "execute_result"
    }
   ],
   "source": [
    "4 >= 4"
   ]
  },
  {
   "cell_type": "code",
   "execution_count": 7,
   "metadata": {},
   "outputs": [
    {
     "name": "stdout",
     "output_type": "stream",
     "text": [
      "são iguais\n"
     ]
    }
   ],
   "source": [
    "if 5 == 5:\n",
    "    print('são iguais')"
   ]
  },
  {
   "cell_type": "code",
   "execution_count": 8,
   "metadata": {},
   "outputs": [
    {
     "name": "stdout",
     "output_type": "stream",
     "text": [
      "Tudo certo\n"
     ]
    }
   ],
   "source": [
    "if True:\n",
    "    print('Tudo certo')"
   ]
  },
  {
   "cell_type": "code",
   "execution_count": 9,
   "metadata": {},
   "outputs": [
    {
     "ename": "SyntaxError",
     "evalue": "expected ':' (1664652418.py, line 2)",
     "output_type": "error",
     "traceback": [
      "\u001b[1;36m  Input \u001b[1;32mIn [9]\u001b[1;36m\u001b[0m\n\u001b[1;33m    if 4 > 3\u001b[0m\n\u001b[1;37m            ^\u001b[0m\n\u001b[1;31mSyntaxError\u001b[0m\u001b[1;31m:\u001b[0m expected ':'\n"
     ]
    }
   ],
   "source": [
    "# cuidado com a sintaxe\n",
    "if 4 > 3\n",
    "    print('Tudo certo')\n",
    "else:\n",
    "    print('Tudo errado')"
   ]
  },
  {
   "cell_type": "code",
   "execution_count": 10,
   "metadata": {},
   "outputs": [
    {
     "name": "stdout",
     "output_type": "stream",
     "text": [
      "Tudo certo\n"
     ]
    }
   ],
   "source": [
    "if 4 > 3:\n",
    "    print('Tudo certo')\n",
    "else:\n",
    "    print('Tudo errado')"
   ]
  },
  {
   "cell_type": "markdown",
   "metadata": {},
   "source": [
    "### Condições aninhadas"
   ]
  },
  {
   "cell_type": "code",
   "execution_count": 12,
   "metadata": {},
   "outputs": [
    {
     "name": "stdout",
     "output_type": "stream",
     "text": [
      "Você é menor de idade\n"
     ]
    }
   ],
   "source": [
    "idade = 10 # idade de um cidadão\n",
    "if idade >= 18:\n",
    "    print('Você é maior de idade')\n",
    "else:\n",
    "    print('Você é menor de idade')\t"
   ]
  },
  {
   "cell_type": "code",
   "execution_count": 13,
   "metadata": {},
   "outputs": [
    {
     "name": "stdout",
     "output_type": "stream",
     "text": [
      "Você é maior de idade\n"
     ]
    }
   ],
   "source": [
    "idade = 18 # idade de um cidadão\n",
    "if idade >= 18:\n",
    "    print('Você é maior de idade')\n",
    "else:\n",
    "    print('Você é menor de idade')\t"
   ]
  },
  {
   "cell_type": "code",
   "execution_count": 14,
   "metadata": {},
   "outputs": [],
   "source": [
    "idade = 17\n",
    "if idade > 17:\n",
    "    print('Você pode dirigir')"
   ]
  },
  {
   "cell_type": "code",
   "execution_count": 15,
   "metadata": {},
   "outputs": [
    {
     "name": "stdout",
     "output_type": "stream",
     "text": [
      "Você é João\n",
      "Você está autorizado a entrar!\n",
      "Bem-vindo João\n"
     ]
    }
   ],
   "source": [
    "Nome = 'João'\n",
    "if idade > 13:\n",
    "    if Nome == 'João':\n",
    "        print('Você é João')\n",
    "        print('Você está autorizado a entrar!')\n",
    "        print('Bem-vindo João')\n",
    "    else:\n",
    "        print('Desculpe, mas você não pode entrar!')    "
   ]
  },
  {
   "cell_type": "code",
   "execution_count": 16,
   "metadata": {},
   "outputs": [
    {
     "name": "stdout",
     "output_type": "stream",
     "text": [
      "Você é João\n",
      "Você está autorizado a entrar!\n",
      "Bem-vindo João\n"
     ]
    }
   ],
   "source": [
    "idade = 13\n",
    "Nome  = 'João'\n",
    "if idade >= 13 and Nome == 'João':\n",
    "    print('Você é João')\n",
    "    print('Você está autorizado a entrar!')\n",
    "    print('Bem-vindo João')"
   ]
  },
  {
   "cell_type": "code",
   "execution_count": 17,
   "metadata": {},
   "outputs": [],
   "source": [
    "idade = 12\n",
    "Nome  = 'João'\n",
    "if (idade >= 13) and (Nome == 'João'):\n",
    "    print('Você é João')\n",
    "    print('Você está autorizado a entrar!')\n",
    "    print('Bem-vindo João')"
   ]
  },
  {
   "cell_type": "code",
   "execution_count": 18,
   "metadata": {},
   "outputs": [],
   "source": [
    "# and = e, or = o\n",
    "# not = não\n",
    "# not = not(idade >= 13)\n",
    "# not = not(Nome == 'João')\n",
    "# not = not(idade >= 13 and Nome == 'João')"
   ]
  },
  {
   "cell_type": "markdown",
   "metadata": {},
   "source": [
    "#### ELIF"
   ]
  },
  {
   "cell_type": "code",
   "execution_count": 1,
   "metadata": {},
   "outputs": [
    {
     "name": "stdout",
     "output_type": "stream",
     "text": [
      "Hoje fará sol!\n"
     ]
    }
   ],
   "source": [
    "dia = 'segunda'\n",
    "if dia == 'segunda':\n",
    "    print('Hoje fará sol!')\n",
    "else:\n",
    "    print('Hoje vai chover!')"
   ]
  },
  {
   "cell_type": "code",
   "execution_count": 2,
   "metadata": {},
   "outputs": [
    {
     "name": "stdout",
     "output_type": "stream",
     "text": [
      "Hoje fará sol!\n"
     ]
    }
   ],
   "source": [
    "if dia == 'segunda':\n",
    "    print('Hoje fará sol!')\n",
    "elif dia == 'terça':\n",
    "    print('Hoje fará chuva!')\n",
    "else:\n",
    "    print('Sem previsão do tempo para o dia selecionado')"
   ]
  },
  {
   "cell_type": "markdown",
   "metadata": {},
   "source": [
    "### Operadores lógicos"
   ]
  },
  {
   "cell_type": "code",
   "execution_count": 3,
   "metadata": {},
   "outputs": [
    {
     "name": "stdout",
     "output_type": "stream",
     "text": [
      "Você pode dirigir\n"
     ]
    }
   ],
   "source": [
    "idade = 18\n",
    "nome = 'João'\n",
    "if idade > 17:\n",
    "    print('Você pode dirigir')"
   ]
  },
  {
   "cell_type": "code",
   "execution_count": 4,
   "metadata": {},
   "outputs": [
    {
     "name": "stdout",
     "output_type": "stream",
     "text": [
      "Altorizado!\n"
     ]
    }
   ],
   "source": [
    "idade = 18\n",
    "if idade > 17 and nome == 'João':\n",
    "    print('Altorizado!')"
   ]
  },
  {
   "cell_type": "code",
   "execution_count": 5,
   "metadata": {},
   "outputs": [
    {
     "name": "stdout",
     "output_type": "stream",
     "text": [
      "Você foi aprovado em Geografia com média final de 60.0\n"
     ]
    }
   ],
   "source": [
    "# usando mais de uma condição\n",
    "disciplina =input('Digite o nome da disciplina: ')\n",
    "nota_final = float(input('Digite a nota final: '))\n",
    "semestre = int(input('Digite o semestre: '))\n",
    "\n",
    "if disciplina == 'Geografia' and nota_final >= 50 and semestre != 1:\n",
    "    print(f'Você foi aprovado em {disciplina} com média final de {nota_final}')\n",
    "else:\n",
    "    print('Lamento você não foi aprovado')"
   ]
  },
  {
   "cell_type": "markdown",
   "metadata": {},
   "source": [
    "### FIM"
   ]
  }
 ],
 "metadata": {
  "kernelspec": {
   "display_name": "Python 3.10.5 64-bit (system)",
   "language": "python",
   "name": "python3"
  },
  "language_info": {
   "codemirror_mode": {
    "name": "ipython",
    "version": 3
   },
   "file_extension": ".py",
   "mimetype": "text/x-python",
   "name": "python",
   "nbconvert_exporter": "python",
   "pygments_lexer": "ipython3",
   "version": "3.10.5"
  },
  "orig_nbformat": 4,
  "vscode": {
   "interpreter": {
    "hash": "74af3d2f25f1e46ebd2903d59225d79e4675ec224d56c01fc30cd168c2010d53"
   }
  }
 },
 "nbformat": 4,
 "nbformat_minor": 2
}
