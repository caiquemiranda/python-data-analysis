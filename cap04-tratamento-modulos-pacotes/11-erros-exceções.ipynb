{
 "cells": [
  {
   "cell_type": "markdown",
   "metadata": {},
   "source": [
    "### Erros e exceções"
   ]
  },
  {
   "cell_type": "code",
   "execution_count": 1,
   "metadata": {},
   "outputs": [
    {
     "ename": "SyntaxError",
     "evalue": "unterminated string literal (detected at line 2) (2438458405.py, line 2)",
     "output_type": "error",
     "traceback": [
      "\u001b[1;36m  Input \u001b[1;32mIn [1]\u001b[1;36m\u001b[0m\n\u001b[1;33m    print('Oi)\u001b[0m\n\u001b[1;37m          ^\u001b[0m\n\u001b[1;31mSyntaxError\u001b[0m\u001b[1;31m:\u001b[0m unterminated string literal (detected at line 2)\n"
     ]
    }
   ],
   "source": [
    "# erro de sintaxe\n",
    "print('Oi)"
   ]
  },
  {
   "cell_type": "code",
   "execution_count": 7,
   "metadata": {},
   "outputs": [],
   "source": [
    "# criando uma func\n",
    "def numDiv(num1, num2):\n",
    "    resultado = num1 / num2\n",
    "    print( resultado )  "
   ]
  },
  {
   "cell_type": "code",
   "execution_count": 8,
   "metadata": {},
   "outputs": [
    {
     "name": "stdout",
     "output_type": "stream",
     "text": [
      "5.0\n"
     ]
    }
   ],
   "source": [
    "# execução não gera erro\n",
    "numDiv(10, 2)"
   ]
  },
  {
   "cell_type": "code",
   "execution_count": 9,
   "metadata": {},
   "outputs": [
    {
     "ename": "ZeroDivisionError",
     "evalue": "division by zero",
     "output_type": "error",
     "traceback": [
      "\u001b[1;31m---------------------------------------------------------------------------\u001b[0m",
      "\u001b[1;31mZeroDivisionError\u001b[0m                         Traceback (most recent call last)",
      "\u001b[1;32md:\\GIT-repository\\github-python-data-analysis\\python-data-analysis\\cap04-tratamento-modulos-pacotes\\11-erros-exceções.ipynb Célula: 5\u001b[0m in \u001b[0;36m<cell line: 2>\u001b[1;34m()\u001b[0m\n\u001b[0;32m      <a href='vscode-notebook-cell:/d%3A/GIT-repository/github-python-data-analysis/python-data-analysis/cap04-tratamento-modulos-pacotes/11-erros-exce%C3%A7%C3%B5es.ipynb#ch0000004?line=0'>1</a>\u001b[0m \u001b[39m# execução gera erro (divisão por zero) except:\u001b[39;00m\n\u001b[1;32m----> <a href='vscode-notebook-cell:/d%3A/GIT-repository/github-python-data-analysis/python-data-analysis/cap04-tratamento-modulos-pacotes/11-erros-exce%C3%A7%C3%B5es.ipynb#ch0000004?line=1'>2</a>\u001b[0m numDiv(\u001b[39m10\u001b[39;49m, \u001b[39m0\u001b[39;49m)\n",
      "\u001b[1;32md:\\GIT-repository\\github-python-data-analysis\\python-data-analysis\\cap04-tratamento-modulos-pacotes\\11-erros-exceções.ipynb Célula: 5\u001b[0m in \u001b[0;36mnumDiv\u001b[1;34m(num1, num2)\u001b[0m\n\u001b[0;32m      <a href='vscode-notebook-cell:/d%3A/GIT-repository/github-python-data-analysis/python-data-analysis/cap04-tratamento-modulos-pacotes/11-erros-exce%C3%A7%C3%B5es.ipynb#ch0000004?line=1'>2</a>\u001b[0m \u001b[39mdef\u001b[39;00m \u001b[39mnumDiv\u001b[39m(num1, num2):\n\u001b[1;32m----> <a href='vscode-notebook-cell:/d%3A/GIT-repository/github-python-data-analysis/python-data-analysis/cap04-tratamento-modulos-pacotes/11-erros-exce%C3%A7%C3%B5es.ipynb#ch0000004?line=2'>3</a>\u001b[0m     resultado \u001b[39m=\u001b[39m num1 \u001b[39m/\u001b[39;49m num2\n\u001b[0;32m      <a href='vscode-notebook-cell:/d%3A/GIT-repository/github-python-data-analysis/python-data-analysis/cap04-tratamento-modulos-pacotes/11-erros-exce%C3%A7%C3%B5es.ipynb#ch0000004?line=3'>4</a>\u001b[0m     \u001b[39mprint\u001b[39m( resultado )\n",
      "\u001b[1;31mZeroDivisionError\u001b[0m: division by zero"
     ]
    }
   ],
   "source": [
    "# execução gera erro (divisão por zero) except:\n",
    "numDiv(10, 0)"
   ]
  },
  {
   "cell_type": "markdown",
   "metadata": {},
   "source": [
    "### Try, Except, Finally"
   ]
  },
  {
   "cell_type": "code",
   "execution_count": 10,
   "metadata": {},
   "outputs": [
    {
     "ename": "TypeError",
     "evalue": "unsupported operand type(s) for +: 'int' and 'str'",
     "output_type": "error",
     "traceback": [
      "\u001b[1;31m---------------------------------------------------------------------------\u001b[0m",
      "\u001b[1;31mTypeError\u001b[0m                                 Traceback (most recent call last)",
      "\u001b[1;32md:\\GIT-repository\\github-python-data-analysis\\python-data-analysis\\cap04-tratamento-modulos-pacotes\\11-erros-exceções.ipynb Célula: 7\u001b[0m in \u001b[0;36m<cell line: 1>\u001b[1;34m()\u001b[0m\n\u001b[1;32m----> <a href='vscode-notebook-cell:/d%3A/GIT-repository/github-python-data-analysis/python-data-analysis/cap04-tratamento-modulos-pacotes/11-erros-exce%C3%A7%C3%B5es.ipynb#ch0000007?line=0'>1</a>\u001b[0m \u001b[39m8\u001b[39;49m \u001b[39m+\u001b[39;49m \u001b[39m'\u001b[39;49m\u001b[39ms\u001b[39;49m\u001b[39m'\u001b[39;49m\n",
      "\u001b[1;31mTypeError\u001b[0m: unsupported operand type(s) for +: 'int' and 'str'"
     ]
    }
   ],
   "source": [
    "8 + 's'"
   ]
  },
  {
   "cell_type": "code",
   "execution_count": 11,
   "metadata": {},
   "outputs": [
    {
     "name": "stdout",
     "output_type": "stream",
     "text": [
      "Operação não permitida\n"
     ]
    }
   ],
   "source": [
    "# Utilizando o try e except\n",
    "try:\n",
    "    8 + 's'\n",
    "\n",
    "except TypeError:\n",
    "    print('Operação não permitida')    "
   ]
  },
  {
   "cell_type": "code",
   "execution_count": 16,
   "metadata": {},
   "outputs": [
    {
     "name": "stdout",
     "output_type": "stream",
     "text": [
      "Conteudo gravado com sucesso\n"
     ]
    }
   ],
   "source": [
    "# Utilizando o try e except e else\n",
    "try:\n",
    "    f = open('arquivos/testandoerros.txt', 'w')\n",
    "    f.write('Gravando no arquivo')\n",
    "\n",
    "except IOError:\n",
    "   print('Erro: arquivo não encontrado ou não pode ser aberto')\n",
    "\n",
    "else:\n",
    "    print('Conteudo gravado com sucesso')\n",
    "    f.close()"
   ]
  },
  {
   "cell_type": "code",
   "execution_count": 18,
   "metadata": {},
   "outputs": [
    {
     "name": "stdout",
     "output_type": "stream",
     "text": [
      "Erro: arquivo não encontrado ou não pode ser aberto\n"
     ]
    }
   ],
   "source": [
    "# Utilizando o try e except e else\n",
    "try:\n",
    "    f = open('arquivos/testandoerros', 'r')\n",
    "    f.write('Gravando no arquivo')\n",
    "\n",
    "except IOError:\n",
    "   print('Erro: arquivo não encontrado ou não pode ser aberto')\n",
    "\n",
    "else:\n",
    "    print('Conteudo gravado com sucesso!')\n",
    "    f.close()"
   ]
  },
  {
   "cell_type": "code",
   "execution_count": 25,
   "metadata": {},
   "outputs": [
    {
     "name": "stdout",
     "output_type": "stream",
     "text": [
      "Conteudo gravado com sucesso\n",
      "Comando no bloco finally são sempre executados\n"
     ]
    }
   ],
   "source": [
    "# Utilizando o try e except e finally\n",
    "try:\n",
    "    f = open('arquivos/testandoerros.txt', 'w')\n",
    "    f.write('Gravando no arquivo')\n",
    "\n",
    "except IOError:\n",
    "   print('Erro: arquivo não encontrado ou não pode ser aberto!')\n",
    "\n",
    "else:\n",
    "    print('Conteudo gravado com sucesso!')\n",
    "    f.close()\n",
    "    \n",
    "# sera executado sempre\n",
    "finally:\n",
    "    print('Comando no bloco finally são sempre executados!')"
   ]
  },
  {
   "cell_type": "code",
   "execution_count": 28,
   "metadata": {},
   "outputs": [],
   "source": [
    "def askint():\n",
    "    try:\n",
    "        val = int(input('Digite um numero: '))\n",
    "    \n",
    "    except UnboundLocalError:\n",
    "        print('Você não digitou um numero!')\n",
    "        \n",
    "    finally:\n",
    "        print('Obrigado!')\n",
    "    \n",
    "    print(val)"
   ]
  },
  {
   "cell_type": "code",
   "execution_count": 29,
   "metadata": {},
   "outputs": [
    {
     "name": "stdout",
     "output_type": "stream",
     "text": [
      "Obrigado!\n",
      "12\n"
     ]
    }
   ],
   "source": [
    "askint()"
   ]
  },
  {
   "cell_type": "code",
   "execution_count": 30,
   "metadata": {},
   "outputs": [],
   "source": [
    "def askint():\n",
    "    try:\n",
    "        val = int(input('Digite um numero: '))\n",
    "    \n",
    "    except:\n",
    "        print('Você não digitou um numero!')\n",
    "        val = int(input('Tente novamente. digite um numero: '))\n",
    "        \n",
    "    finally:\n",
    "        print('Obrigado!')\n",
    "    \n",
    "    print(val)"
   ]
  },
  {
   "cell_type": "code",
   "execution_count": 35,
   "metadata": {},
   "outputs": [
    {
     "name": "stdout",
     "output_type": "stream",
     "text": [
      "Obrigado!\n",
      "12\n"
     ]
    }
   ],
   "source": [
    "askint()"
   ]
  },
  {
   "cell_type": "code",
   "execution_count": 50,
   "metadata": {},
   "outputs": [],
   "source": [
    "def askint():\n",
    "    while True:\n",
    "        try:\n",
    "            val = int(input('Digite um numero: '))\n",
    "            \n",
    "        except:\n",
    "            print('Você não digitou um numero!')\n",
    "            continue\n",
    "        \n",
    "        else:\n",
    "            print('Obrigado por digitar um numero!')\n",
    "            break\n",
    "        \n",
    "        finally:\n",
    "            print('Fim da execução, obrigado!')\n",
    "    \n",
    "    print(val)"
   ]
  },
  {
   "cell_type": "code",
   "execution_count": 51,
   "metadata": {},
   "outputs": [
    {
     "name": "stdout",
     "output_type": "stream",
     "text": [
      "Você não digitou um numero!\n",
      "Fim da execução, obrigado!\n",
      "Você não digitou um numero!\n",
      "Fim da execução, obrigado!\n",
      "Você não digitou um numero!\n",
      "Fim da execução, obrigado!\n",
      "Você não digitou um numero!\n",
      "Fim da execução, obrigado!\n",
      "Você não digitou um numero!\n",
      "Fim da execução, obrigado!\n",
      "Você não digitou um numero!\n",
      "Fim da execução, obrigado!\n",
      "Você não digitou um numero!\n",
      "Fim da execução, obrigado!\n",
      "Você não digitou um numero!\n",
      "Fim da execução, obrigado!\n",
      "Você não digitou um numero!\n",
      "Fim da execução, obrigado!\n",
      "Você não digitou um numero!\n",
      "Fim da execução, obrigado!\n",
      "Você não digitou um numero!\n",
      "Fim da execução, obrigado!\n",
      "Obrigado por digitar um numero!\n",
      "Fim da execução, obrigado!\n",
      "25\n"
     ]
    }
   ],
   "source": [
    "askint()"
   ]
  },
  {
   "cell_type": "code",
   "execution_count": 52,
   "metadata": {},
   "outputs": [
    {
     "name": "stdout",
     "output_type": "stream",
     "text": [
      "Erro:  'tuple' object has no attribute 'appned'\n"
     ]
    }
   ],
   "source": [
    "# capturando erros\n",
    "tpl = (1, 2, 3, 4, 5)\n",
    "\n",
    "try:\n",
    "    tpl.appned(6)\n",
    "    for each in tpl:\n",
    "        print(each)\n",
    "        \n",
    "except AttributeError as e:\n",
    "    print('Erro: ', e)\n",
    "    \n",
    "except IOError as e:\n",
    "    print('Erro de I/O: ', e)"
   ]
  },
  {
   "cell_type": "markdown",
   "metadata": {},
   "source": [
    "### FIM"
   ]
  }
 ],
 "metadata": {
  "kernelspec": {
   "display_name": "Python 3.10.5 64-bit (system)",
   "language": "python",
   "name": "python3"
  },
  "language_info": {
   "codemirror_mode": {
    "name": "ipython",
    "version": 3
   },
   "file_extension": ".py",
   "mimetype": "text/x-python",
   "name": "python",
   "nbconvert_exporter": "python",
   "pygments_lexer": "ipython3",
   "version": "3.10.5"
  },
  "orig_nbformat": 4,
  "vscode": {
   "interpreter": {
    "hash": "74af3d2f25f1e46ebd2903d59225d79e4675ec224d56c01fc30cd168c2010d53"
   }
  }
 },
 "nbformat": 4,
 "nbformat_minor": 2
}
