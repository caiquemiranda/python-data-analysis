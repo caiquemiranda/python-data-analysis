{
 "cells": [
  {
   "cell_type": "markdown",
   "metadata": {},
   "source": [
    "### Manipulando arquivos .TXT"
   ]
  },
  {
   "cell_type": "code",
   "execution_count": null,
   "metadata": {},
   "outputs": [],
   "source": [
    "texto = 'Cientistas de dados são muito importantes para o desenvolvimento de software.\\n'\n",
    "texto += 'Mas como eles são muito importantes, eles precisam ser muito bem treinados.\\n'\n",
    "texto += 'Para isso, eles precisam saber como lidar com arquivos txt.\\n'"
   ]
  },
  {
   "cell_type": "code",
   "execution_count": null,
   "metadata": {},
   "outputs": [],
   "source": [
    "print(texto)"
   ]
  },
  {
   "cell_type": "code",
   "execution_count": null,
   "metadata": {},
   "outputs": [],
   "source": [
    "# importando o modulo os operating system\n",
    "import os"
   ]
  },
  {
   "cell_type": "code",
   "execution_count": null,
   "metadata": {},
   "outputs": [],
   "source": [
    "# cria um arquivo\n",
    "arquivo = open(os.path.join('arquivos/cientista.txt'), 'w')"
   ]
  },
  {
   "cell_type": "code",
   "execution_count": null,
   "metadata": {},
   "outputs": [],
   "source": [
    "# gravando os dados no arquivo\n",
    "\n",
    "# separação das palavras por espaço\n",
    "for palavra in texto.split():\n",
    "    \n",
    "    # escrevendo no arquivo adcionando um espaço entre as palavras\n",
    "    arquivo.write(palavra + ' ')"
   ]
  },
  {
   "cell_type": "code",
   "execution_count": null,
   "metadata": {},
   "outputs": [],
   "source": [
    "# fechando o arquivo em modo de escrita\n",
    "arquivo.close()"
   ]
  },
  {
   "cell_type": "code",
   "execution_count": null,
   "metadata": {},
   "outputs": [],
   "source": [
    "# lendo o arquivo\n",
    "arquivo = open('arquivos/cientista.txt', 'r')\n",
    "\n",
    "# abrindo o arquivo em modo de leitura e importando para uma variavel\n",
    "conteudo = arquivo.read()\n",
    "\n",
    "# fechando modo de leitura\n",
    "arquivo.close()\n",
    "\n",
    "# imprimindo o conteudo do arquivo na variavel\n",
    "print(conteudo)"
   ]
  },
  {
   "cell_type": "markdown",
   "metadata": {},
   "source": [
    "#### Usando a expressão with"
   ]
  },
  {
   "cell_type": "code",
   "execution_count": null,
   "metadata": {},
   "outputs": [],
   "source": [
    "with open('arquivos/cientista.txt', 'r') as arquivo:\n",
    "    conteudo = arquivo.read()"
   ]
  },
  {
   "cell_type": "code",
   "execution_count": null,
   "metadata": {},
   "outputs": [],
   "source": [
    "print(len(conteudo))"
   ]
  },
  {
   "cell_type": "code",
   "execution_count": null,
   "metadata": {},
   "outputs": [],
   "source": [
    "print(conteudo)"
   ]
  },
  {
   "cell_type": "code",
   "execution_count": null,
   "metadata": {},
   "outputs": [],
   "source": [
    "# slicing do conteudo\n",
    "with open('arquivos/cientista.txt', 'w') as arquivo:\n",
    "    arquivo.write(texto[:21])\n",
    "    arquivo.write('\\n')\n",
    "    arquivo.write(texto[:33])"
   ]
  },
  {
   "cell_type": "code",
   "execution_count": null,
   "metadata": {},
   "outputs": [],
   "source": [
    "# lendo o arquivo\n",
    "arquivo = open('arquivos/cientista.txt', 'r')\n",
    "conteudo = arquivo.read()\n",
    "arquivo.close()\n",
    "\n",
    "print(conteudo)"
   ]
  },
  {
   "cell_type": "markdown",
   "metadata": {},
   "source": [
    "#### Manipulando arquivos csv"
   ]
  },
  {
   "cell_type": "code",
   "execution_count": 1,
   "metadata": {},
   "outputs": [],
   "source": [
    "import csv"
   ]
  },
  {
   "cell_type": "code",
   "execution_count": null,
   "metadata": {},
   "outputs": [],
   "source": [
    "with open('arquivos/numeros.csv', 'w') as arquivo:\n",
    "    \n",
    "    # escrevendo no arquivo\n",
    "    writer = csv.writer(arquivo)\n",
    "    \n",
    "    # conteudo do arquivo\n",
    "    writer.writerow(('primeira','segunda','terceira'))\n",
    "    writer.writerow((55,93,76))\n",
    "    writer.writerow((62,14,86))"
   ]
  },
  {
   "cell_type": "code",
   "execution_count": null,
   "metadata": {},
   "outputs": [],
   "source": [
    "# leitura do arquivo csv\n",
    "with open('arquivos/numeros.csv', 'r') as arquivo:\n",
    "    \n",
    "    # leitura do arquivo csv\n",
    "    leitor = csv.reader(arquivo)\n",
    "    \n",
    "    # imprimindo o conteudo do arquivo csv\n",
    "    for i in leitor:\n",
    "        print('Numero de colunas: ', len(i))\n",
    "        print(i)"
   ]
  },
  {
   "cell_type": "code",
   "execution_count": 3,
   "metadata": {},
   "outputs": [
    {
     "name": "stdout",
     "output_type": "stream",
     "text": [
      "[['primeira', 'segunda', 'terceira'], [], ['55', '93', '76'], [], ['62', '14', '86'], []]\n"
     ]
    }
   ],
   "source": [
    "# gerando uma lista com os dados do arquivo csv\n",
    "with open('arquivos/numeros.csv', 'r') as arquivo:\n",
    "    \n",
    "    # leitura do arquivo csv\n",
    "    leitor = csv.reader(arquivo)\n",
    "    \n",
    "    # lista com os dados do arquivo csv\n",
    "    lista = list(leitor)\n",
    "    \n",
    "    # imprimindo o conteudo do arquivo csv\n",
    "    print(lista)"
   ]
  },
  {
   "cell_type": "code",
   "execution_count": 4,
   "metadata": {},
   "outputs": [
    {
     "name": "stdout",
     "output_type": "stream",
     "text": [
      "[]\n",
      "['55', '93', '76']\n",
      "[]\n",
      "['62', '14', '86']\n",
      "[]\n"
     ]
    }
   ],
   "source": [
    "# imprimindo o conteudo da lista\n",
    "for linha in lista[1:]:\n",
    "    print(linha)"
   ]
  },
  {
   "cell_type": "markdown",
   "metadata": {},
   "source": [
    "### Manipulando arquivos JSON"
   ]
  },
  {
   "cell_type": "code",
   "execution_count": 5,
   "metadata": {},
   "outputs": [],
   "source": [
    "# criando um dicionario com os dados do arquivo csv\n",
    "dict = {'nome': 'Guido van Rossum', \n",
    "        'linguagem': 'Python',\n",
    "        'similar': ['c', 'Modula-3', 'lisp'],\n",
    "        'users': 1_000_000}"
   ]
  },
  {
   "cell_type": "code",
   "execution_count": 6,
   "metadata": {},
   "outputs": [
    {
     "name": "stdout",
     "output_type": "stream",
     "text": [
      "nome = Guido van Rossum\n",
      "linguagem = Python\n",
      "similar = ['c', 'Modula-3', 'lisp']\n",
      "users = 1000000\n"
     ]
    }
   ],
   "source": [
    "# imprimindo o dicionario\n",
    "for chave, valor in dict.items():\n",
    "    print(f'{chave} = {valor}')"
   ]
  },
  {
   "cell_type": "code",
   "execution_count": 7,
   "metadata": {},
   "outputs": [],
   "source": [
    "# Importando o modulo JSON\n",
    "import json"
   ]
  },
  {
   "cell_type": "code",
   "execution_count": 9,
   "metadata": {},
   "outputs": [
    {
     "data": {
      "text/plain": [
       "'{\"nome\": \"Guido van Rossum\", \"linguagem\": \"Python\", \"similar\": [\"c\", \"Modula-3\", \"lisp\"], \"users\": 1000000}'"
      ]
     },
     "execution_count": 9,
     "metadata": {},
     "output_type": "execute_result"
    }
   ],
   "source": [
    "# convertendo o dicionario em json\n",
    "json.dumps(dict)"
   ]
  },
  {
   "cell_type": "code",
   "execution_count": 10,
   "metadata": {},
   "outputs": [],
   "source": [
    "# criando um arquivo json\n",
    "with open('arquivos/dados.json', 'w') as arquivo:\n",
    "    arquivo.write(json.dumps(dict))"
   ]
  },
  {
   "cell_type": "code",
   "execution_count": 11,
   "metadata": {},
   "outputs": [],
   "source": [
    "# leitura do arquivo json\n",
    "with open('arquivos/dados.json', 'r') as arquivo:\n",
    "    texto = arquivo.read()\n",
    "    data = json.loads(texto)"
   ]
  },
  {
   "cell_type": "code",
   "execution_count": 12,
   "metadata": {},
   "outputs": [
    {
     "name": "stdout",
     "output_type": "stream",
     "text": [
      "{'nome': 'Guido van Rossum', 'linguagem': 'Python', 'similar': ['c', 'Modula-3', 'lisp'], 'users': 1000000}\n"
     ]
    }
   ],
   "source": [
    "# imprimindo o conteudo do arquivo json\n",
    "print(data)"
   ]
  },
  {
   "cell_type": "code",
   "execution_count": 13,
   "metadata": {},
   "outputs": [
    {
     "name": "stdout",
     "output_type": "stream",
     "text": [
      "Guido van Rossum\n"
     ]
    }
   ],
   "source": [
    "# imprimindo o conteudo do dicionario especifico pela chave\n",
    "print(data['nome'])"
   ]
  },
  {
   "cell_type": "code",
   "execution_count": 15,
   "metadata": {},
   "outputs": [],
   "source": [
    "# imprimindo um arquivo json copiado da internet\n",
    "from urllib.request import urlopen\n",
    "\n",
    "response = urlopen('https://vimeo.com/api/v2/video/57733101.json').read().decode('utf-8')\n",
    "data = json.loads(response)[0]"
   ]
  },
  {
   "cell_type": "code",
   "execution_count": 16,
   "metadata": {},
   "outputs": [
    {
     "name": "stdout",
     "output_type": "stream",
     "text": [
      "Titulo:  The Good Man trailer\n",
      "URL:  https://vimeo.com/57733101\n",
      "Duração:  143\n",
      "Numero de visualização:  6458\n"
     ]
    }
   ],
   "source": [
    "# imprimindo o conteudo do arquivo json\n",
    "print('Titulo: ', data['title'])\n",
    "print('URL: ', data['url'])\n",
    "print('Duração: ', data['duration'])\n",
    "print('Numero de visualização: ', data['stats_number_of_plays'])"
   ]
  },
  {
   "cell_type": "code",
   "execution_count": 17,
   "metadata": {},
   "outputs": [],
   "source": [
    "# copiando conteudo de um arquivo para outro\n",
    "import os\n",
    "\n",
    "# definindo o caminho do arquivo de origem e destino\n",
    "arquivo_fonte = 'arquivos/dados.json'\n",
    "arquivo_destino = 'arquivos/json_data.txt'"
   ]
  },
  {
   "cell_type": "code",
   "execution_count": 18,
   "metadata": {},
   "outputs": [],
   "source": [
    "# metodo 1\n",
    "\n",
    "# abrimos o arquivo de origem como leitura\n",
    "with open(arquivo_fonte, 'r') as infile:\n",
    "    # lemos o conteudo\n",
    "    texto = infile.read()\n",
    "    \n",
    "    # abrimos o arquivo de destino como escrita\n",
    "    with open(arquivo_destino, 'w') as outfile:\n",
    "        \n",
    "        # escrevemos o conteudo do arquivo de origem no arquivo de destino\n",
    "        outfile.write(texto)\n"
   ]
  },
  {
   "cell_type": "code",
   "execution_count": 19,
   "metadata": {},
   "outputs": [
    {
     "data": {
      "text/plain": [
       "107"
      ]
     },
     "execution_count": 19,
     "metadata": {},
     "output_type": "execute_result"
    }
   ],
   "source": [
    "# metodo 2\n",
    "\n",
    "# uma linha de codigo com metodos concatenados\n",
    "open(arquivo_destino, 'w').write(open(arquivo_fonte, 'r').read())"
   ]
  },
  {
   "cell_type": "code",
   "execution_count": 20,
   "metadata": {},
   "outputs": [],
   "source": [
    "# leitura do arquivo json\n",
    "with open('arquivos/json_data.txt', 'r') as arquivo:\n",
    "    texto = arquivo.read()\n",
    "    data = json.loads(texto)"
   ]
  },
  {
   "cell_type": "code",
   "execution_count": 21,
   "metadata": {},
   "outputs": [
    {
     "name": "stdout",
     "output_type": "stream",
     "text": [
      "{'nome': 'Guido van Rossum', 'linguagem': 'Python', 'similar': ['c', 'Modula-3', 'lisp'], 'users': 1000000}\n"
     ]
    }
   ],
   "source": [
    "print(data)"
   ]
  },
  {
   "cell_type": "markdown",
   "metadata": {},
   "source": [
    "### FIM"
   ]
  }
 ],
 "metadata": {
  "kernelspec": {
   "display_name": "Python 3.10.5 64-bit (system)",
   "language": "python",
   "name": "python3"
  },
  "language_info": {
   "codemirror_mode": {
    "name": "ipython",
    "version": 3
   },
   "file_extension": ".py",
   "mimetype": "text/x-python",
   "name": "python",
   "nbconvert_exporter": "python",
   "pygments_lexer": "ipython3",
   "version": "3.10.5"
  },
  "orig_nbformat": 4,
  "vscode": {
   "interpreter": {
    "hash": "74af3d2f25f1e46ebd2903d59225d79e4675ec224d56c01fc30cd168c2010d53"
   }
  }
 },
 "nbformat": 4,
 "nbformat_minor": 2
}
