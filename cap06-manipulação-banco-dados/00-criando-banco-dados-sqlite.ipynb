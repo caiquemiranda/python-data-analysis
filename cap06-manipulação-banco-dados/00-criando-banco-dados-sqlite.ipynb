{
 "cells": [
  {
   "cell_type": "markdown",
   "metadata": {},
   "source": [
    "### Criando o sqlite"
   ]
  },
  {
   "cell_type": "code",
   "execution_count": 1,
   "metadata": {},
   "outputs": [],
   "source": [
    "# import manipulação do sistema\n",
    "import os \n",
    "\n",
    "# remove o banco de dados caso exista\n",
    "os.remove('arquivos/escola.db') if os.path.exists('arquivos/escola.db') else None"
   ]
  },
  {
   "cell_type": "code",
   "execution_count": 2,
   "metadata": {},
   "outputs": [],
   "source": [
    "# import modulo sqlite3 python\n",
    "import sqlite3"
   ]
  },
  {
   "cell_type": "code",
   "execution_count": 3,
   "metadata": {},
   "outputs": [],
   "source": [
    "# cria a conexão com o banco de dados\n",
    "# caso não exista, ele cria o banco de dados\n",
    "con = sqlite3.connect('arquivos/escola.db')"
   ]
  },
  {
   "cell_type": "code",
   "execution_count": 4,
   "metadata": {},
   "outputs": [
    {
     "data": {
      "text/plain": [
       "sqlite3.Connection"
      ]
     },
     "execution_count": 4,
     "metadata": {},
     "output_type": "execute_result"
    }
   ],
   "source": [
    "# tipo da conexão\n",
    "type(con)"
   ]
  },
  {
   "cell_type": "code",
   "execution_count": 5,
   "metadata": {},
   "outputs": [],
   "source": [
    "# cria o cursor\n",
    "# cursor é o objeto que executa as instruções SQL percorre o banco de dados\n",
    "cur = con.cursor()"
   ]
  },
  {
   "cell_type": "code",
   "execution_count": 6,
   "metadata": {},
   "outputs": [
    {
     "data": {
      "text/plain": [
       "sqlite3.Cursor"
      ]
     },
     "execution_count": 6,
     "metadata": {},
     "output_type": "execute_result"
    }
   ],
   "source": [
    "type(cur)"
   ]
  },
  {
   "cell_type": "code",
   "execution_count": 7,
   "metadata": {},
   "outputs": [],
   "source": [
    "# criando uma instrução SQL\n",
    "# comando DDL (Data Definition Language)\n",
    "sql_create = 'CREATE TABLE cursos ' \\\n",
    "                   '(id INTEGER PRIMARY KEY, ' \\\n",
    "                   'titulo VARCHAR(100), ' \\\n",
    "                   'categoria VARCHAR(140))'"
   ]
  },
  {
   "cell_type": "code",
   "execution_count": 8,
   "metadata": {},
   "outputs": [
    {
     "data": {
      "text/plain": [
       "'CREATE TABLE cursos (id INTEGER PRIMARY KEY, titulo VARCHAR(100), categoria VARCHAR(140))'"
      ]
     },
     "execution_count": 8,
     "metadata": {},
     "output_type": "execute_result"
    }
   ],
   "source": [
    "sql_create"
   ]
  },
  {
   "cell_type": "code",
   "execution_count": 9,
   "metadata": {},
   "outputs": [
    {
     "data": {
      "text/plain": [
       "<sqlite3.Cursor at 0x28a79986240>"
      ]
     },
     "execution_count": 9,
     "metadata": {},
     "output_type": "execute_result"
    }
   ],
   "source": [
    "# primeira execução da instrução SQL\n",
    "cur.execute(sql_create)"
   ]
  },
  {
   "cell_type": "code",
   "execution_count": 10,
   "metadata": {},
   "outputs": [],
   "source": [
    "# inserindo dados na tabela\n",
    "sql_insert = 'INSERT INTO cursos VALUES (?, ?, ?)'"
   ]
  },
  {
   "cell_type": "code",
   "execution_count": 11,
   "metadata": {},
   "outputs": [],
   "source": [
    "# dados\n",
    "recset = [(1000, 'Python', 'Programação'),\n",
    "          (1001, 'Java', 'Programação'),\n",
    "          (1002, 'C#', 'Programação'),\n",
    "          (1003, 'C++', 'Programação'),\n",
    "          (1004, 'PHP', 'Programação'),\n",
    "          (1005, 'Ruby', 'Programação'),\n",
    "          (1006, 'JavaScript', 'Programação'),\n",
    "          (1007, 'Swift', 'Programação'),\n",
    "          (1008, 'C', 'Programação'),\n",
    "          (1010, 'Ciencia de dados', 'Data science'),\n",
    "          (1011, 'Big Data', 'Data science'),\n",
    "          (1012, 'Python', 'Data science'),]"
   ]
  },
  {
   "cell_type": "code",
   "execution_count": 12,
   "metadata": {},
   "outputs": [],
   "source": [
    "# inserindo dados em um loop\n",
    "# cada dado uma inserção\n",
    "for rec in recset:\n",
    "    cur.execute(sql_insert, rec)"
   ]
  },
  {
   "cell_type": "code",
   "execution_count": 13,
   "metadata": {},
   "outputs": [],
   "source": [
    "# gravando dados no banco de dados\n",
    "con.commit()"
   ]
  },
  {
   "cell_type": "code",
   "execution_count": 14,
   "metadata": {},
   "outputs": [],
   "source": [
    "# consultando dados usando uma instrução SQL\n",
    "sql_select = 'SELECT * FROM cursos'"
   ]
  },
  {
   "cell_type": "code",
   "execution_count": 15,
   "metadata": {},
   "outputs": [],
   "source": [
    "# executando a instrução SQL\n",
    "cur.execute(sql_select)\n",
    "\n",
    "# salvando o resultado da consulta\n",
    "dados = cur.fetchall()"
   ]
  },
  {
   "cell_type": "code",
   "execution_count": 16,
   "metadata": {},
   "outputs": [
    {
     "name": "stdout",
     "output_type": "stream",
     "text": [
      "Curso Id: 1000, Titulo: Python, Categoria: Programação\n",
      "Curso Id: 1001, Titulo: Java, Categoria: Programação\n",
      "Curso Id: 1002, Titulo: C#, Categoria: Programação\n",
      "Curso Id: 1003, Titulo: C++, Categoria: Programação\n",
      "Curso Id: 1004, Titulo: PHP, Categoria: Programação\n",
      "Curso Id: 1005, Titulo: Ruby, Categoria: Programação\n",
      "Curso Id: 1006, Titulo: JavaScript, Categoria: Programação\n",
      "Curso Id: 1007, Titulo: Swift, Categoria: Programação\n",
      "Curso Id: 1008, Titulo: C, Categoria: Programação\n",
      "Curso Id: 1010, Titulo: Ciencia de dados, Categoria: Data science\n",
      "Curso Id: 1011, Titulo: Big Data, Categoria: Data science\n",
      "Curso Id: 1012, Titulo: Python, Categoria: Data science\n"
     ]
    }
   ],
   "source": [
    "# listar os dados usando um loop\n",
    "for linha in dados:\n",
    "    print(f'Curso Id: {linha[0]}, Titulo: {linha[1]}, Categoria: {linha[2]}')"
   ]
  },
  {
   "cell_type": "code",
   "execution_count": 17,
   "metadata": {},
   "outputs": [],
   "source": [
    "# inserindo mais registros\n",
    "recset = [(1013, 'Gestão de Dados', 'Big Data'),\n",
    "          (1014, 'R', 'Analise de Dados')]\n",
    "\n",
    "# inserindo dados em um loop\n",
    "for rec in recset:\n",
    "    cur.execute(sql_insert, rec)\n",
    "    \n",
    "# gravando dados no banco de dados\n",
    "con.commit()"
   ]
  },
  {
   "cell_type": "code",
   "execution_count": 18,
   "metadata": {},
   "outputs": [
    {
     "name": "stdout",
     "output_type": "stream",
     "text": [
      "Curso Id: 1000, Titulo: Python, Categoria: Programação\n",
      "Curso Id: 1001, Titulo: Java, Categoria: Programação\n",
      "Curso Id: 1002, Titulo: C#, Categoria: Programação\n",
      "Curso Id: 1003, Titulo: C++, Categoria: Programação\n",
      "Curso Id: 1004, Titulo: PHP, Categoria: Programação\n",
      "Curso Id: 1005, Titulo: Ruby, Categoria: Programação\n",
      "Curso Id: 1006, Titulo: JavaScript, Categoria: Programação\n",
      "Curso Id: 1007, Titulo: Swift, Categoria: Programação\n",
      "Curso Id: 1008, Titulo: C, Categoria: Programação\n",
      "Curso Id: 1010, Titulo: Ciencia de dados, Categoria: Data science\n",
      "Curso Id: 1011, Titulo: Big Data, Categoria: Data science\n",
      "Curso Id: 1012, Titulo: Python, Categoria: Data science\n",
      "Curso Id: 1013, Titulo: Gestão de Dados, Categoria: Big Data\n",
      "Curso Id: 1014, Titulo: R, Categoria: Analise de Dados\n"
     ]
    }
   ],
   "source": [
    "# selecionando dados usando a instrução SQL diretamente\n",
    "cur.execute('SELECT * FROM cursos')\n",
    "\n",
    "# recuperando os dados\n",
    "recset = cur.fetchall()\n",
    "\n",
    "# visualizando os dados\n",
    "for l in recset:\n",
    "    print(f'Curso Id: {l[0]}, Titulo: {l[1]}, Categoria: {l[2]}')"
   ]
  },
  {
   "cell_type": "code",
   "execution_count": 19,
   "metadata": {},
   "outputs": [],
   "source": [
    "# fechando a conexão\n",
    "con.close()"
   ]
  },
  {
   "cell_type": "markdown",
   "metadata": {},
   "source": [
    "### FIM"
   ]
  }
 ],
 "metadata": {
  "kernelspec": {
   "display_name": "Python 3.10.5 64-bit (system)",
   "language": "python",
   "name": "python3"
  },
  "language_info": {
   "codemirror_mode": {
    "name": "ipython",
    "version": 3
   },
   "file_extension": ".py",
   "mimetype": "text/x-python",
   "name": "python",
   "nbconvert_exporter": "python",
   "pygments_lexer": "ipython3",
   "version": "3.10.5"
  },
  "orig_nbformat": 4,
  "vscode": {
   "interpreter": {
    "hash": "74af3d2f25f1e46ebd2903d59225d79e4675ec224d56c01fc30cd168c2010d53"
   }
  }
 },
 "nbformat": 4,
 "nbformat_minor": 2
}
