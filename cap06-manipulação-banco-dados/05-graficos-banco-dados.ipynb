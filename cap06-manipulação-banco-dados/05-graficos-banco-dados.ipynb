{
 "cells": [
  {
   "cell_type": "markdown",
   "metadata": {},
   "source": [
    "### Contruindo gráficos a partir de banco de dados"
   ]
  },
  {
   "cell_type": "code",
   "execution_count": 3,
   "metadata": {},
   "outputs": [],
   "source": [
    "import sqlite3\n",
    "import random\n",
    "import time\n",
    "import datetime\n",
    "\n",
    "import matplotlib.pyplot as plt\n",
    "\n",
    "# conexão\n",
    "conn = sqlite3.connect('arquivos/banco.db')\n",
    "\n",
    "# cursor\n",
    "c = conn.cursor()\n",
    "\n",
    "# criando tabela\n",
    "def create_table():\n",
    "    c.execute('CREATE TABLE IF NOT EXISTS produtos (id INTEGER PRIMARY KEY AUTOINCREMENT NOT NULL, date TEXT, '\\\n",
    "              'product_name TEXT, value REAL)')\n",
    "    \n",
    "# inserindo dados\n",
    "def data_insert():\n",
    "    c.execute(\"INSERT INTO produtos VALUES ('2022-01-01 12:50:21', 'Teclado', 130.00)\")\n",
    "    \n",
    "    # commitando alterações\n",
    "    conn.commit()\n",
    "    \n",
    "    # fechando o cursor\n",
    "    c.close()\n",
    "    \n",
    "    # fechando a conexão\n",
    "    conn.close()\n",
    "\n",
    "def data_insert_var():\n",
    "    new_date = datetime.datetime.now()\n",
    "    new_product_name = 'Mouse'\n",
    "    new_value = random.randrange(50, 100)\n",
    "    c.execute('INSERT INTO produtos (date, product_name, value) VALUES (?, ?, ?)', (new_date, new_product_name, new_value))\n",
    "    \n",
    "    # commitando alterações\n",
    "    conn.commit() \n",
    "\n",
    "# leitura de dados    \n",
    "def leitura_todos_dados():\n",
    "    c.execute('SELECT * FROM produtos')\n",
    "    for row in c.fetchall():\n",
    "        print(row)\n",
    "        \n",
    "# leitura de colunas especificas\n",
    "def leitura_registros():\n",
    "    c.execute('SELECT * FROM produtos WHERE value > 60.0' )\n",
    "    for row in c.fetchall():\n",
    "        print(row)\n",
    "\n",
    "# apenas ultima coluna\n",
    "def leitura_colunas():\n",
    "    c.execute('SELECT * FROM produtos' )\n",
    "    for row in c.fetchall():\n",
    "        # row[0] = id\n",
    "        # row[1] = date\n",
    "        # row[2] = product_name\n",
    "        # row[3] = value\n",
    "        print(row[3])\n",
    "\n",
    "# atualizando dados        \n",
    "def atualiza_dados():\n",
    "    c.execute('UPDATE produtos SET value = 70.00 WHERE value > 90.0')\n",
    "    conn.commit()\n",
    "    \n",
    "# deletando dados\n",
    "def remove_dados():\n",
    "    c.execute('DELETE FROM produtos WHERE value = 88.0')\n",
    "    conn.commit()   \n",
    "\n",
    "# grafico\n",
    "def dados_grafico():\n",
    "    c.execute('SELECT id, value FROM produtos')\n",
    "    ids =[]\n",
    "    valores = []\n",
    "    dados = c.fetchall()\n",
    "    for row in dados:\n",
    "        ids.append(row[0])\n",
    "        valores.append(row[1])\n",
    "    \n",
    "    plt.bar(ids, valores)\n",
    "    plt.show()    "
   ]
  },
  {
   "cell_type": "code",
   "execution_count": 4,
   "metadata": {},
   "outputs": [
    {
     "data": {
      "image/png": "[encoded data removed]",
      "text/plain": [
       "<Figure size 432x288 with 1 Axes>"
      ]
     },
     "metadata": {
      "needs_background": "light"
     },
     "output_type": "display_data"
    }
   ],
   "source": [
    "# geração de gráficos\n",
    "dados_grafico()"
   ]
  },
  {
   "cell_type": "markdown",
   "metadata": {},
   "source": [
    "### FIM"
   ]
  }
 ],
 "metadata": {
  "kernelspec": {
   "display_name": "Python 3.10.5 64-bit (system)",
   "language": "python",
   "name": "python3"
  },
  "language_info": {
   "codemirror_mode": {
    "name": "ipython",
    "version": 3
   },
   "file_extension": ".py",
   "mimetype": "text/x-python",
   "name": "python",
   "nbconvert_exporter": "python",
   "pygments_lexer": "ipython3",
   "version": "3.10.5"
  },
  "orig_nbformat": 4,
  "vscode": {
   "interpreter": {
    "hash": "74af3d2f25f1e46ebd2903d59225d79e4675ec224d56c01fc30cd168c2010d53"
   }
  }
 },
 "nbformat": 4,
 "nbformat_minor": 2
}
