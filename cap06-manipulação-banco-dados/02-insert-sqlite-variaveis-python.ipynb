{
 "cells": [
  {
   "cell_type": "markdown",
   "metadata": {},
   "source": [
    "### INSERT com Variaveis"
   ]
  },
  {
   "cell_type": "code",
   "execution_count": null,
   "metadata": {},
   "outputs": [],
   "source": [
    "# verifica se o banco de dados existe\n",
    "import os\n",
    "\n",
    "os.remove('arquivos/banco.db') if os.path.exists('arquivos/banco.db') else None"
   ]
  },
  {
   "cell_type": "code",
   "execution_count": 1,
   "metadata": {},
   "outputs": [],
   "source": [
    "import sqlite3\n",
    "import random\n",
    "import time\n",
    "import datetime\n",
    "\n",
    "# conexão\n",
    "conn = sqlite3.connect('arquivos/banco.db')\n",
    "\n",
    "# cursor\n",
    "c = conn.cursor()\n",
    "\n",
    "# criando tabela\n",
    "def create_table():\n",
    "    c.execute('CREATE TABLE IF NOT EXISTS produtos (id INTEGER PRIMARY KEY AUTOINCREMENT NOT NULL, date TEXT, '\\\n",
    "              'product_name TEXT, value REAL)')\n",
    "    \n",
    "# inserindo dados\n",
    "def data_insert():\n",
    "    c.execute(\"INSERT INTO produtos VALUES ('2022-01-01 12:50:21', 'Teclado', 130.00)\")\n",
    "    \n",
    "    # commitando alterações\n",
    "    conn.commit()\n",
    "    \n",
    "    # fechando o cursor\n",
    "    c.close()\n",
    "    \n",
    "    # fechando a conexão\n",
    "    conn.close()\n",
    "\n",
    "def data_insert_var():\n",
    "    new_date = datetime.datetime.now()\n",
    "    new_product_name = 'Mouse'\n",
    "    new_value = random.randrange(50, 100)\n",
    "    c.execute(\"INSERT INTO produtos (date, product_name, value) VALUES (?, ?, ?)\", (new_date, new_product_name, new_value))\n",
    "    \n",
    "    # commitando alterações\n",
    "    conn.commit() "
   ]
  },
  {
   "cell_type": "code",
   "execution_count": 2,
   "metadata": {},
   "outputs": [],
   "source": [
    "# inserindo dados com variaveis de forma automatizada\n",
    "for i in range(10):\n",
    "    data_insert_var()\n",
    "    time.sleep(1)"
   ]
  },
  {
   "cell_type": "code",
   "execution_count": 3,
   "metadata": {},
   "outputs": [],
   "source": [
    "# fechando o cursor e encerrando a conexão\n",
    "c.close()\n",
    "conn.close()"
   ]
  },
  {
   "cell_type": "markdown",
   "metadata": {},
   "source": [
    "### FIM"
   ]
  }
 ],
 "metadata": {
  "kernelspec": {
   "display_name": "Python 3.10.5 64-bit (system)",
   "language": "python",
   "name": "python3"
  },
  "language_info": {
   "codemirror_mode": {
    "name": "ipython",
    "version": 3
   },
   "file_extension": ".py",
   "mimetype": "text/x-python",
   "name": "python",
   "nbconvert_exporter": "python",
   "pygments_lexer": "ipython3",
   "version": "3.10.5"
  },
  "orig_nbformat": 4,
  "vscode": {
   "interpreter": {
    "hash": "74af3d2f25f1e46ebd2903d59225d79e4675ec224d56c01fc30cd168c2010d53"
   }
  }
 },
 "nbformat": 4,
 "nbformat_minor": 2
}
