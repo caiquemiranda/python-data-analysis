{
 "cells": [
  {
   "cell_type": "markdown",
   "metadata": {},
   "source": [
    "### Leitura de dados SELECT"
   ]
  },
  {
   "cell_type": "code",
   "execution_count": 2,
   "metadata": {},
   "outputs": [],
   "source": [
    "import sqlite3\n",
    "import random\n",
    "import time\n",
    "import datetime\n",
    "\n",
    "# conexão\n",
    "conn = sqlite3.connect('arquivos/banco.db')\n",
    "\n",
    "# cursor\n",
    "c = conn.cursor()\n",
    "\n",
    "# criando tabela\n",
    "def create_table():\n",
    "    c.execute('CREATE TABLE IF NOT EXISTS produtos (id INTEGER PRIMARY KEY AUTOINCREMENT NOT NULL, date TEXT, '\\\n",
    "              'product_name TEXT, value REAL)')\n",
    "    \n",
    "# inserindo dados\n",
    "def data_insert():\n",
    "    c.execute(\"INSERT INTO produtos VALUES ('2022-01-01 12:50:21', 'Teclado', 130.00)\")\n",
    "    \n",
    "    # commitando alterações\n",
    "    conn.commit()\n",
    "    \n",
    "    # fechando o cursor\n",
    "    c.close()\n",
    "    \n",
    "    # fechando a conexão\n",
    "    conn.close()\n",
    "\n",
    "def data_insert_var():\n",
    "    new_date = datetime.datetime.now()\n",
    "    new_product_name = 'Mouse'\n",
    "    new_value = random.randrange(50, 100)\n",
    "    c.execute('INSERT INTO produtos (date, product_name, value) VALUES (?, ?, ?)', (new_date, new_product_name, new_value))\n",
    "    \n",
    "    # commitando alterações\n",
    "    conn.commit() \n",
    "\n",
    "# leitura de dados    \n",
    "def leitura_todos_dados():\n",
    "    c.execute('SELECT * FROM produtos')\n",
    "    for row in c.fetchall():\n",
    "        print(row)\n",
    "        \n",
    "# leitura de colunas especificas\n",
    "def leitura_registros():\n",
    "    c.execute('SELECT * FROM produtos WHERE value > 60.0' )\n",
    "    for row in c.fetchall():\n",
    "        print(row)\n",
    "\n",
    "\n",
    "def leitura_colunas():\n",
    "    c.execute('SELECT * FROM produtos' )\n",
    "    for row in c.fetchall():\n",
    "        # row[0] = id\n",
    "        # row[1] = date\n",
    "        # row[2] = product_name\n",
    "        # row[3] = value\n",
    "        print(row[3])"
   ]
  },
  {
   "cell_type": "code",
   "execution_count": 3,
   "metadata": {},
   "outputs": [
    {
     "name": "stdout",
     "output_type": "stream",
     "text": [
      "(10, '2020-01-01', 'Teclado', 90.0)\n",
      "(11, '2022-07-17 11:06:55.244191', 'Mouse', 88.0)\n",
      "(12, '2022-07-17 11:06:56.350611', 'Mouse', 63.0)\n",
      "(13, '2022-07-17 11:06:57.467928', 'Mouse', 82.0)\n",
      "(14, '2022-07-17 11:06:58.599357', 'Mouse', 90.0)\n",
      "(15, '2022-07-17 11:06:59.723686', 'Mouse', 79.0)\n",
      "(16, '2022-07-17 11:07:00.826980', 'Mouse', 74.0)\n",
      "(17, '2022-07-17 11:07:01.929352', 'Mouse', 99.0)\n",
      "(18, '2022-07-17 11:07:03.061314', 'Mouse', 64.0)\n",
      "(19, '2022-07-17 11:07:04.189790', 'Mouse', 89.0)\n",
      "(20, '2022-07-17 11:07:05.304668', 'Mouse', 59.0)\n"
     ]
    }
   ],
   "source": [
    "# select dados\n",
    "leitura_todos_dados()"
   ]
  },
  {
   "cell_type": "code",
   "execution_count": 4,
   "metadata": {},
   "outputs": [
    {
     "name": "stdout",
     "output_type": "stream",
     "text": [
      "(10, '2020-01-01', 'Teclado', 90.0)\n",
      "(11, '2022-07-17 11:06:55.244191', 'Mouse', 88.0)\n",
      "(12, '2022-07-17 11:06:56.350611', 'Mouse', 63.0)\n",
      "(13, '2022-07-17 11:06:57.467928', 'Mouse', 82.0)\n",
      "(14, '2022-07-17 11:06:58.599357', 'Mouse', 90.0)\n",
      "(15, '2022-07-17 11:06:59.723686', 'Mouse', 79.0)\n",
      "(16, '2022-07-17 11:07:00.826980', 'Mouse', 74.0)\n",
      "(17, '2022-07-17 11:07:01.929352', 'Mouse', 99.0)\n",
      "(18, '2022-07-17 11:07:03.061314', 'Mouse', 64.0)\n",
      "(19, '2022-07-17 11:07:04.189790', 'Mouse', 89.0)\n"
     ]
    }
   ],
   "source": [
    "# dados especificos\n",
    "leitura_registros()"
   ]
  },
  {
   "cell_type": "code",
   "execution_count": 5,
   "metadata": {},
   "outputs": [
    {
     "name": "stdout",
     "output_type": "stream",
     "text": [
      "90.0\n",
      "88.0\n",
      "63.0\n",
      "82.0\n",
      "90.0\n",
      "79.0\n",
      "74.0\n",
      "99.0\n",
      "64.0\n",
      "89.0\n",
      "59.0\n"
     ]
    }
   ],
   "source": [
    "# leitura de coluna, apenas a coluna value\n",
    "leitura_colunas()"
   ]
  },
  {
   "cell_type": "code",
   "execution_count": 6,
   "metadata": {},
   "outputs": [],
   "source": [
    "# fechando a conexão\n",
    "c.close()\n",
    "conn.close()"
   ]
  },
  {
   "cell_type": "markdown",
   "metadata": {},
   "source": [
    "### FIM"
   ]
  }
 ],
 "metadata": {
  "kernelspec": {
   "display_name": "Python 3.10.5 64-bit (system)",
   "language": "python",
   "name": "python3"
  },
  "language_info": {
   "codemirror_mode": {
    "name": "ipython",
    "version": 3
   },
   "file_extension": ".py",
   "mimetype": "text/x-python",
   "name": "python",
   "nbconvert_exporter": "python",
   "pygments_lexer": "ipython3",
   "version": "3.10.5"
  },
  "orig_nbformat": 4,
  "vscode": {
   "interpreter": {
    "hash": "74af3d2f25f1e46ebd2903d59225d79e4675ec224d56c01fc30cd168c2010d53"
   }
  }
 },
 "nbformat": 4,
 "nbformat_minor": 2
}
