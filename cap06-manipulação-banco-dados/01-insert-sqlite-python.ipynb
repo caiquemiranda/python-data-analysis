{
 "cells": [
  {
   "cell_type": "markdown",
   "metadata": {},
   "source": [
    "### Insert SQLite em Python"
   ]
  },
  {
   "cell_type": "code",
   "execution_count": 1,
   "metadata": {},
   "outputs": [],
   "source": [
    "# verifica se o banco de dados existe\n",
    "import os\n",
    "\n",
    "os.remove('arquivos/banco.db') if os.path.exists('arquivos/banco.db') else None"
   ]
  },
  {
   "cell_type": "code",
   "execution_count": 2,
   "metadata": {},
   "outputs": [],
   "source": [
    "import sqlite3\n",
    "\n",
    "# conexão com o banco de dados, caso não exista será criado\n",
    "conn = sqlite3.connect('arquivos/banco.db')\n",
    "\n",
    "# criação do cursor\n",
    "c = conn.cursor()\n",
    "\n",
    "# criação da tabela com uma função\n",
    "def create_table():\n",
    "    \n",
    "    # criação da tabela caso não exista\n",
    "    # forma 1 usando \\ e aspas simples\n",
    "    c.execute('CREATE TABLE IF NOT EXISTS produtos (id INTEGER PRIMARY KEY AUTOINCREMENT NOT NULL, date TEXT,' \\\n",
    "              ' product_name TEXT, value REAL)')\n",
    "  \n",
    "    # commit das alterações, gravação no banco de dados\n",
    "    conn.commit()\n",
    "    \n",
    "    # printa de sucesso\n",
    "    print('Tabela criada com sucesso!')\n",
    "\n",
    "def data_insert():\n",
    "    c.execute('INSERT INTO produtos VALUES (10, \"2020-01-01\", \"Teclado\", 90)')\n",
    "    conn.commit()\n",
    "    c.close()"
   ]
  },
  {
   "cell_type": "code",
   "execution_count": 3,
   "metadata": {},
   "outputs": [
    {
     "name": "stdout",
     "output_type": "stream",
     "text": [
      "Tabela criada com sucesso!\n"
     ]
    }
   ],
   "source": [
    "# criação da tabela\n",
    "create_table()"
   ]
  },
  {
   "cell_type": "code",
   "execution_count": 4,
   "metadata": {},
   "outputs": [],
   "source": [
    "# inserção de dados\n",
    "data_insert()"
   ]
  },
  {
   "cell_type": "markdown",
   "metadata": {},
   "source": [
    "### FIM"
   ]
  }
 ],
 "metadata": {
  "kernelspec": {
   "display_name": "Python 3.10.5 64-bit (system)",
   "language": "python",
   "name": "python3"
  },
  "language_info": {
   "codemirror_mode": {
    "name": "ipython",
    "version": 3
   },
   "file_extension": ".py",
   "mimetype": "text/x-python",
   "name": "python",
   "nbconvert_exporter": "python",
   "pygments_lexer": "ipython3",
   "version": "3.10.5"
  },
  "orig_nbformat": 4,
  "vscode": {
   "interpreter": {
    "hash": "74af3d2f25f1e46ebd2903d59225d79e4675ec224d56c01fc30cd168c2010d53"
   }
  }
 },
 "nbformat": 4,
 "nbformat_minor": 2
}
