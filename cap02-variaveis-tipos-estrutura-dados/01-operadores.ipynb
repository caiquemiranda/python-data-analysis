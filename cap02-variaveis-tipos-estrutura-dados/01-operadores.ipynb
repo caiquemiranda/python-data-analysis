{
 "cells": [
  {
   "cell_type": "markdown",
   "metadata": {},
   "source": [
    "### Operadores Numericos\n",
    "\n",
    "- operador -> significado -> exemplo\n",
    "- + -> soma -> a + b\n",
    "- - -> subtração -> a - b\n",
    "- * -> multiplicação -> a * b\n",
    "- / -> divisão -> a / b\n",
    "- // -> divisão inteira -> a // b\n",
    "- % -> módulo -> a % b\n",
    "- ** -> potencia -> a ** b\n",
    "- int() -> converte para inteiro -> int(a)\n",
    "- float() -> converte para float -> float(a)\n",
    "- str() -> converte para string -> str(a)\n",
    "- bool() -> converte para booleano -> bool(a)"
   ]
  },
  {
   "cell_type": "markdown",
   "metadata": {},
   "source": [
    "### Operadores Relacionais\n",
    "\n",
    "- operador -> significado \n",
    "- == -> igualdade/equivalencia\n",
    "- != -> diferente\n",
    "- < > -> diferente\n",
    "- /> -> maior\n",
    "- < -> menor\n",
    "- />= -> maior ou igual\n",
    "- <= -> menor ou igual\n",
    "- and -> e\n",
    "- or -> ou\n",
    "- not -> não\n",
    "- in -> está contido em\n",
    "- not in -> não está contido em\n",
    "- is -> é igual a\n",
    "- is not -> não é igual a\n",
    "- in -> está contido em\n",
    "- not in -> não está contido em\n"
   ]
  }
 ],
 "metadata": {
  "kernelspec": {
   "display_name": "Python 3.10.5 64-bit (system)",
   "language": "python",
   "name": "python3"
  },
  "language_info": {
   "name": "python",
   "version": "3.10.5"
  },
  "orig_nbformat": 4,
  "vscode": {
   "interpreter": {
    "hash": "74af3d2f25f1e46ebd2903d59225d79e4675ec224d56c01fc30cd168c2010d53"
   }
  }
 },
 "nbformat": 4,
 "nbformat_minor": 2
}
