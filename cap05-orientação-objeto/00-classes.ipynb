{
 "cells": [
  {
   "cell_type": "markdown",
   "metadata": {},
   "source": [
    "### Classes"
   ]
  },
  {
   "cell_type": "code",
   "execution_count": null,
   "metadata": {},
   "outputs": [],
   "source": [
    "# definindo uma class\n",
    "\n",
    "class Pessoa:\n",
    "    def __init__(self, nome, idade):\n",
    "        self.nome = nome\n",
    "        self.idade = idade\n",
    "    def __str__(self):\n",
    "        return f'{self.nome} tem {self.idade} anos'\n",
    "    def __repr__(self):\n",
    "        return f'Pessoa({self.nome}, {self.idade})'\n",
    "    def __add__(self, other):\n",
    "        return self.idade + other.idade\n",
    "    def __sub__(self, other):\n",
    "        return self.idade - other.idade\n",
    "    def __mul__(self, other):\n",
    "        return self.idade * other.idade\n",
    "    def __truediv__(self, other):\n",
    "        return self.idade / other.idade\n",
    "    def __floordiv__(self, other):\n",
    "        return self.idade // other.idade\n",
    "    def __mod__(self, other):\n",
    "        return self.idade % other.idade\n",
    "    def __pow__(self, other):\n",
    "        return self.idade ** other.idade\n",
    "    def __and__(self, other):\n",
    "        return self.idade & other.idade\n",
    "    def __or__(self, other):\n",
    "        return self.idade | other.idade\n",
    "    def __xor__(self, other):\n",
    "        return self.idade ^ other.idade\n",
    "    def __rshift__(self, other):\n",
    "        return self.idade >> other.idade\n",
    "    def __lshift__(self, other):\n",
    "        return self.idade << other.idade\n",
    "    def __lt__(self, other):\n",
    "        return self.idade < other.idade\n",
    "    def __le__(self, other):\n",
    "        return self.idade <= other.idade\n",
    "    def __eq__(self, other):\n",
    "        return self.idade == other.idade\n",
    "    def __ne__(self, other):\n",
    "        return self.idade != other.idade\n",
    "    def __ge__(self, other):\n",
    "        return self.idade >= other.idade"
   ]
  },
  {
   "cell_type": "code",
   "execution_count": 1,
   "metadata": {},
   "outputs": [],
   "source": [
    "# criando uma classe chamada livro\n",
    "class Livro():\n",
    "    \n",
    "    # definindo o construtor\n",
    "    def __init__(self):\n",
    "        \n",
    "        # definindo atributos dessa classe\n",
    "        self.titulo = 'O Monge e o Executivo'\n",
    "        self.isbn = 123456789\n",
    "        \n",
    "        print('Construtor chamado para criar um objeto dessa classe')\n",
    "        \n",
    "    # metodo(action of the object)\n",
    "    def imprime(self):\n",
    "        print(f'Foi criado o livro {self.titulo} e o isbn é {self.isbn}')\n",
    "        "
   ]
  },
  {
   "cell_type": "code",
   "execution_count": 5,
   "metadata": {},
   "outputs": [
    {
     "name": "stdout",
     "output_type": "stream",
     "text": [
      "Construtor chamado para criar um objeto dessa classe\n"
     ]
    }
   ],
   "source": [
    "# instanciando a classe\n",
    "livro_1 = Livro()"
   ]
  },
  {
   "cell_type": "code",
   "execution_count": 6,
   "metadata": {},
   "outputs": [
    {
     "data": {
      "text/plain": [
       "__main__.Livro"
      ]
     },
     "execution_count": 6,
     "metadata": {},
     "output_type": "execute_result"
    }
   ],
   "source": [
    "# tipo do objeto\n",
    "type(livro_1)"
   ]
  },
  {
   "cell_type": "code",
   "execution_count": 9,
   "metadata": {},
   "outputs": [
    {
     "data": {
      "text/plain": [
       "'O Monge e o Executivo'"
      ]
     },
     "execution_count": 9,
     "metadata": {},
     "output_type": "execute_result"
    }
   ],
   "source": [
    "# Atributo da classe\n",
    "livro_1.titulo"
   ]
  },
  {
   "cell_type": "code",
   "execution_count": 10,
   "metadata": {},
   "outputs": [
    {
     "name": "stdout",
     "output_type": "stream",
     "text": [
      "Foi criado o livro O Monge e o Executivo e o isbn é 123456789\n"
     ]
    }
   ],
   "source": [
    "# método da classe\n",
    "livro_1.imprime()"
   ]
  },
  {
   "cell_type": "code",
   "execution_count": 11,
   "metadata": {},
   "outputs": [],
   "source": [
    "# criando uma classe livro com parametros no metodo construtor\n",
    "\n",
    "class Livro():\n",
    "    \n",
    "    # definindo o construtor\n",
    "    def __init__(self, titulo, isbn):\n",
    "        \n",
    "        # definindo atributos dessa classe\n",
    "        self.titulo = titulo\n",
    "        self.isbn = isbn\n",
    "        \n",
    "        print('Construtor chamado para criar um objeto dessa classe')\n",
    "        \n",
    "    # metodo(action of the object)\n",
    "    def imprime(self, titulo, isbn):\n",
    "        print(f'Foi criado o livro {self.titulo} e o isbn é {self.isbn}')"
   ]
  },
  {
   "cell_type": "code",
   "execution_count": 12,
   "metadata": {},
   "outputs": [
    {
     "name": "stdout",
     "output_type": "stream",
     "text": [
      "Construtor chamado para criar um objeto dessa classe\n"
     ]
    }
   ],
   "source": [
    "# instanciando a classe\n",
    "livro_2 = Livro('A menina que roubava livros', 876543329)"
   ]
  },
  {
   "cell_type": "code",
   "execution_count": 14,
   "metadata": {},
   "outputs": [
    {
     "data": {
      "text/plain": [
       "'A menina que roubava livros'"
      ]
     },
     "execution_count": 14,
     "metadata": {},
     "output_type": "execute_result"
    }
   ],
   "source": [
    "# atributos \n",
    "livro_2.titulo"
   ]
  },
  {
   "cell_type": "code",
   "execution_count": 13,
   "metadata": {},
   "outputs": [
    {
     "name": "stdout",
     "output_type": "stream",
     "text": [
      "Foi criado o livro A menina que roubava livros e o isbn é 876543329\n"
     ]
    }
   ],
   "source": [
    "livro_2.imprime('A menina que roubava livros', 876543329)"
   ]
  },
  {
   "cell_type": "code",
   "execution_count": 34,
   "metadata": {},
   "outputs": [],
   "source": [
    "# criando a classe cachorro\n",
    "class Cachorro():\n",
    "    \n",
    "    def __init__(self, raca):\n",
    "        self.raca = raca\n",
    "        \n",
    "        print('Construtor chamado para criar um objeto dessa classe')"
   ]
  },
  {
   "cell_type": "code",
   "execution_count": 35,
   "metadata": {},
   "outputs": [
    {
     "name": "stdout",
     "output_type": "stream",
     "text": [
      "Construtor chamado para criar um objeto dessa classe\n"
     ]
    }
   ],
   "source": [
    "# instanciando a classe cachorro\n",
    "rex = Cachorro(raca='Labrador')"
   ]
  },
  {
   "cell_type": "code",
   "execution_count": 36,
   "metadata": {},
   "outputs": [
    {
     "name": "stdout",
     "output_type": "stream",
     "text": [
      "Construtor chamado para criar um objeto dessa classe\n"
     ]
    }
   ],
   "source": [
    "golias = Cachorro(raca='Huskie')"
   ]
  },
  {
   "cell_type": "code",
   "execution_count": 37,
   "metadata": {},
   "outputs": [
    {
     "data": {
      "text/plain": [
       "'Labrador'"
      ]
     },
     "execution_count": 37,
     "metadata": {},
     "output_type": "execute_result"
    }
   ],
   "source": [
    "rex.raca"
   ]
  },
  {
   "cell_type": "code",
   "execution_count": 38,
   "metadata": {},
   "outputs": [
    {
     "data": {
      "text/plain": [
       "'Huskie'"
      ]
     },
     "execution_count": 38,
     "metadata": {},
     "output_type": "execute_result"
    }
   ],
   "source": [
    "golias.raca"
   ]
  },
  {
   "cell_type": "markdown",
   "metadata": {},
   "source": [
    "### FIM"
   ]
  }
 ],
 "metadata": {
  "kernelspec": {
   "display_name": "Python 3.10.5 64-bit (system)",
   "language": "python",
   "name": "python3"
  },
  "language_info": {
   "codemirror_mode": {
    "name": "ipython",
    "version": 3
   },
   "file_extension": ".py",
   "mimetype": "text/x-python",
   "name": "python",
   "nbconvert_exporter": "python",
   "pygments_lexer": "ipython3",
   "version": "3.10.5"
  },
  "orig_nbformat": 4,
  "vscode": {
   "interpreter": {
    "hash": "74af3d2f25f1e46ebd2903d59225d79e4675ec224d56c01fc30cd168c2010d53"
   }
  }
 },
 "nbformat": 4,
 "nbformat_minor": 2
}
